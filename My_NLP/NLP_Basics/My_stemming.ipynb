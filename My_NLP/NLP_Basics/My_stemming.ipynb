{
 "cells": [
  {
   "cell_type": "code",
   "execution_count": 1,
   "metadata": {},
   "outputs": [],
   "source": [
    "import nltk"
   ]
  },
  {
   "cell_type": "markdown",
   "metadata": {},
   "source": [
    "## PORTER Stemmer"
   ]
  },
  {
   "cell_type": "code",
   "execution_count": 2,
   "metadata": {},
   "outputs": [],
   "source": [
    "from nltk.stem.porter import PorterStemmer"
   ]
  },
  {
   "cell_type": "code",
   "execution_count": 3,
   "metadata": {},
   "outputs": [],
   "source": [
    "p_stemmer = PorterStemmer()"
   ]
  },
  {
   "cell_type": "code",
   "execution_count": 14,
   "metadata": {},
   "outputs": [],
   "source": [
    "words = ['run', 'runner', 'ran', 'runs', 'easily', 'fairly', 'fairness' ]"
   ]
  },
  {
   "cell_type": "code",
   "execution_count": 28,
   "metadata": {},
   "outputs": [
    {
     "name": "stdout",
     "output_type": "stream",
     "text": [
      "run       ------> run       \n",
      "runner    ------> runner    \n",
      "ran       ------> ran       \n",
      "runs      ------> run       \n",
      "easily    ------> easili    \n",
      "fairly    ------> fairli    \n",
      "fairness  ------> fair      \n"
     ]
    }
   ],
   "source": [
    "for word in words:\n",
    "    print(f\"{word:{8}}  ------> {p_stemmer.stem(word):{10}}\")"
   ]
  },
  {
   "cell_type": "markdown",
   "metadata": {},
   "source": [
    "## SNOWBALL Stemmer is slightly better\n",
    "\n",
    "### More advanced version of PorterStemmer"
   ]
  },
  {
   "cell_type": "code",
   "execution_count": 20,
   "metadata": {},
   "outputs": [],
   "source": [
    "from nltk.stem.snowball import SnowballStemmer"
   ]
  },
  {
   "cell_type": "code",
   "execution_count": 21,
   "metadata": {},
   "outputs": [],
   "source": [
    "s_stemmer = SnowballStemmer(language='english')"
   ]
  },
  {
   "cell_type": "code",
   "execution_count": 27,
   "metadata": {},
   "outputs": [
    {
     "name": "stdout",
     "output_type": "stream",
     "text": [
      "run       ------> run       \n",
      "runner    ------> runner    \n",
      "ran       ------> ran       \n",
      "runs      ------> run       \n",
      "easily    ------> easili    \n",
      "fairly    ------> fair      \n",
      "fairness  ------> fair      \n"
     ]
    }
   ],
   "source": [
    "for word in words:\n",
    "     print(f\"{word:{8}}  ------> {s_stemmer.stem(word):{10}}\")"
   ]
  },
  {
   "cell_type": "code",
   "execution_count": 29,
   "metadata": {},
   "outputs": [],
   "source": [
    "words = ['generous', 'generation', 'generously', 'generate']"
   ]
  },
  {
   "cell_type": "code",
   "execution_count": 31,
   "metadata": {},
   "outputs": [
    {
     "name": "stdout",
     "output_type": "stream",
     "text": [
      "generous    ------> generous  \n",
      "generation  ------> generat   \n",
      "generously  ------> generous  \n",
      "generate    ------> generat   \n"
     ]
    }
   ],
   "source": [
    "for word in words:\n",
    "     print(f\"{word:{10}}  ------> {s_stemmer.stem(word):{10}}\")"
   ]
  },
  {
   "cell_type": "code",
   "execution_count": null,
   "metadata": {},
   "outputs": [],
   "source": []
  }
 ],
 "metadata": {
  "kernelspec": {
   "display_name": "Python 3",
   "language": "python",
   "name": "python3"
  },
  "language_info": {
   "codemirror_mode": {
    "name": "ipython",
    "version": 3
   },
   "file_extension": ".py",
   "mimetype": "text/x-python",
   "name": "python",
   "nbconvert_exporter": "python",
   "pygments_lexer": "ipython3",
   "version": "3.6.8"
  }
 },
 "nbformat": 4,
 "nbformat_minor": 2
}
