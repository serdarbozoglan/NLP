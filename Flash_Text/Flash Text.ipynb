{
 "cells": [
  {
   "cell_type": "markdown",
   "metadata": {},
   "source": [
    "## What is Flash Text?\n",
    "\n",
    "FlashText is a Python library created specifically for the purpose of searching and replacing words in a document. Now, the way FlashText works is that it requires a word or a list of words and a string. The words which FlashText calls keywords are then searched or replaced in the string.\n",
    "\n",
    "For more information:\n",
    "\n",
    "https://www.analyticsvidhya.com/blog/2017/11/flashtext-a-library-faster-than-regular-expressions/\n",
    "\n",
    "\n",
    "String = “spamham sha”\n",
    "Replace “spam” with “eggs” and “sha” with “md5”\n",
    "\n",
    "Now let’s see how does the String look like with and without a single pass.\n",
    "\n",
    "__String = “spamham sha”__\n",
    "\n",
    "\n",
    "__Replace “spam” with “eggs” and “sha” with “md5”__\n",
    "\n",
    "`Single-pass`\n",
    "__String = “eggsham md5”__\n",
    "\n",
    "`Without Single-pass`\n",
    "__String = “eggmd5m md5”__\n",
    "\n",
    "An important thing to keep in mind is that checking for a word in the dictionary happens at a character level.\n",
    "\n",
    "Use FlashText when you have __to search__ for a large number of keywords, preferably more than 500.\n",
    "\n",
    "FlashText is any day better than regular expressions for __replacing__ keywords in a document.\n",
    "\n",
    "There are still a few caveats of using FlashText. As of now, FlashText does not support partial word matching or special characters matching. For that, Regular Expressions are the best."
   ]
  },
  {
   "cell_type": "code",
   "execution_count": 3,
   "metadata": {},
   "outputs": [],
   "source": [
    "from flashtext import KeywordProcessor"
   ]
  },
  {
   "cell_type": "code",
   "execution_count": 14,
   "metadata": {},
   "outputs": [
    {
     "name": "stdout",
     "output_type": "stream",
     "text": [
      "['batman', 'batman', 'batman', 'batman', 'batman', 'batman', 'batman', 'batman', 'batman', 'batman', 'batman', 'batman']\n"
     ]
    }
   ],
   "source": [
    "document = \"\"\"Batman is a fictional superhero appearing in American comic books published by DC Comics. The character was created by artist Bob Kane and writer Bill Finger,[4][5] and first appeared in Detective Comics #27 (1939). Originally named the \"Bat-Man\", the character is also referred to by such epithets as the Caped Crusader, the Dark Knight, and the World's Greatest Detective.[6]\n",
    "\n",
    "Batman's secret identity is Bruce Wayne, a wealthy American playboy, philanthropist, and owner of Wayne Enterprises. After witnessing the murder of his parents Dr. Thomas Wayne and Martha Wayne as a child, he swore vengeance against criminals, an oath tempered by a sense of justice. Bruce Wayne trains himself physically and intellectually and crafts a bat-inspired persona to fight crime.[7]\n",
    "\n",
    "Batman operates in the fictional Gotham City with assistance from various supporting characters, including his butler Alfred, police commissioner Gordon, and vigilante allies such as Robin. Unlike most superheroes, Batman does not possess any superpowers; rather, he relies on his genius intellect, physical prowess, martial arts abilities, detective skills, science and technology, vast wealth, intimidation, and indomitable will. A large assortment of villains make up Batman's rogues gallery, including his archenemy, the Joker.\n",
    "\n",
    "The character became popular soon after his introduction in 1939 and gained his own comic book title, Batman, the following year. As the decades went on, differing interpretations of the character emerged. The late 1960s Batman television series used a camp aesthetic, which continued to be associated with the character for years after the show ended. Various creators worked to return the character to his dark roots, culminating in 1986 with The Dark Knight Returns by Frank Miller. The success of Warner Bros.' live-action Batman feature films have helped maintain the character's prominence in mainstream culture.[8]\n",
    "\n",
    "An American cultural icon, Batman has garnered enormous popularity and is among the most identifiable comic book characters. Batman has been licensed and adapted into a variety of media, from radio to television and film, and appears on various merchandise sold around the world, such as toys and video games. The character has also intrigued psychiatrists, with many trying to understand his psyche. In 2015, FanSided ranked Batman as number one on their list of \"50 Greatest Super Heroes In Comic Book History\".[9] Kevin Conroy, Bruce Greenwood, Peter Weller, Anthony Ruivivar, Jason O'Mara, and Will Arnett, among others, have provided the character's voice for animated adaptations. Batman has been depicted in both film and television by Lewis Wilson, Robert Lowery, Adam West, Michael Keaton, Val Kilmer, George Clooney, Christian Bale, and Ben Affleck. \"\"\"\n",
    "\n",
    "# searching for a single word in the document\n",
    "processor = KeywordProcessor()\n",
    "processor.add_keyword('batman')\n",
    "found = processor.extract_keywords(document)\n",
    "print(found)"
   ]
  },
  {
   "cell_type": "code",
   "execution_count": 6,
   "metadata": {},
   "outputs": [
    {
     "name": "stdout",
     "output_type": "stream",
     "text": [
      "['batman', 'batman', 'batman', 'batman', 'batman', 'batman', 'batman', 'batman', 'batman', 'batman', 'batman', 'batman', 'robert']\n"
     ]
    }
   ],
   "source": [
    "# searching for more than one word\n",
    "processor.add_keywords_from_list(['batman','robert'])\n",
    "found = processor.extract_keywords(document)\n",
    "print(found)"
   ]
  },
  {
   "cell_type": "code",
   "execution_count": 9,
   "metadata": {},
   "outputs": [],
   "source": [
    "# searching for synonymns using a dictionary\n",
    "processor.add_keywords_from_dict({'batman':['batman','bruce wayne']})\n",
    "found = processor.extract_keywords(document)"
   ]
  },
  {
   "cell_type": "code",
   "execution_count": 10,
   "metadata": {},
   "outputs": [
    {
     "name": "stdout",
     "output_type": "stream",
     "text": [
      "['batman', 'batman', 'batman', 'batman', 'batman', 'batman', 'batman', 'batman', 'batman', 'batman', 'batman', 'batman', 'batman', 'batman', 'robert']\n"
     ]
    }
   ],
   "source": [
    "print(found)"
   ]
  },
  {
   "cell_type": "code",
   "execution_count": 12,
   "metadata": {},
   "outputs": [
    {
     "data": {
      "text/plain": [
       "[('batman', 0, 6),\n",
       " ('batman', 379, 385),\n",
       " ('batman', 407, 418),\n",
       " ('batman', 663, 674),\n",
       " ('batman', 774, 780),\n",
       " ('batman', 989, 995),\n",
       " ('batman', 1245, 1251),\n",
       " ('batman', 1409, 1415),\n",
       " ('batman', 1528, 1534),\n",
       " ('batman', 1834, 1840),\n",
       " ('batman', 1957, 1963),\n",
       " ('batman', 2055, 2061),\n",
       " ('batman', 2356, 2362),\n",
       " ('batman', 2617, 2623),\n",
       " ('robert', 2687, 2693)]"
      ]
     },
     "execution_count": 12,
     "metadata": {},
     "output_type": "execute_result"
    }
   ],
   "source": [
    "# listing the location of found keywords along with the keywords\n",
    "processor.add_keywords_from_dict({'batman':['batman','bruce wayne']})\n",
    "found = processor.extract_keywords(document, span_info=True)\n",
    "found"
   ]
  },
  {
   "cell_type": "code",
   "execution_count": 16,
   "metadata": {},
   "outputs": [],
   "source": [
    "## Batman 0, 6 means ilk karakterde basliyor 6. karakterde bitiyor anlaminda"
   ]
  },
  {
   "cell_type": "code",
   "execution_count": 25,
   "metadata": {},
   "outputs": [
    {
     "name": "stdout",
     "output_type": "stream",
     "text": [
      "Bruce Wayne is a fictional superhero appearing in American comic books published by DC Comics. The character was created by artist Bob Kane and writer Bill Finger,[4][5] and first appeared in Detective Comics #27 (1939). Originally named the \"Bat-Man\", the character is also referred to by such epithets as the Caped Crusader, the Dark Knight, and the World's Greatest Detective.[6]\n",
      "\n",
      "Bruce Wayne's secret identity is Bruce Wayne, a wealthy American playboy, philanthropist, and owner of Wayne Enterprises. After witnessing the murder of his parents Dr. Thomas Wayne and Martha Wayne as a child, he swore vengeance against criminals, an oath tempered by a sense of justice. Bruce Wayne trains himself physically and intellectually and crafts a bat-inspired persona to fight crime.[7]\n",
      "\n",
      "Bruce Wayne operates in the fictional Gotham City with assistance from various supporting characters, including his butler Alfred, police commissioner Gordon, and vigilante allies such as Robin. Unlike most superheroes, Bruce Wayne does not possess any superpowers; rather, he relies on his genius intellect, physical prowess, martial arts abilities, detective skills, science and technology, vast wealth, intimidation, and indomitable will. A large assortment of villains make up Bruce Wayne's rogues gallery, including his archenemy, the Joker.\n",
      "\n",
      "The character became popular soon after his introduction in 1939 and gained his own comic book title, Bruce Wayne, the following year. As the decades went on, differing interpretations of the character emerged. The late 1960s Bruce Wayne television series used a camp aesthetic, which continued to be associated with the character for years after the show ended. Various creators worked to return the character to his dark roots, culminating in 1986 with The Dark Knight Returns by Frank Miller. The success of Warner Bros.' live-action Bruce Wayne feature films have helped maintain the character's prominence in mainstream culture.[8]\n",
      "\n",
      "An American cultural icon, Bruce Wayne has garnered enormous popularity and is among the most identifiable comic book characters. Bruce Wayne has been licensed and adapted into a variety of media, from radio to television and film, and appears on various merchandise sold around the world, such as toys and video games. The character has also intrigued psychiatrists, with many trying to understand his psyche. In 2015, FanSided ranked Bruce Wayne as number one on their list of \"50 Greatest Super Heroes In Comic Book History\".[9] Kevin Conroy, Bruce Greenwood, Peter Weller, Anthony Ruivivar, Jason O'Mara, and Will Arnett, among others, have provided the character's voice for animated adaptations. Bruce Wayne has been depicted in both film and television by Lewis Wilson, Robert Lowery, Adam West, Michael Keaton, Val Kilmer, George Clooney, Christian Bale, and Ben Affleck. \n"
     ]
    }
   ],
   "source": [
    "# Replacing all occurences of word 'batman'(case insensitive) with Bruce Wayne\n",
    "processor = KeywordProcessor(case_sensitive = False)\n",
    "processor.add_keyword('batman','Bruce Wayne')\n",
    "found = processor.replace_keywords(document)\n",
    "print(found)"
   ]
  },
  {
   "cell_type": "code",
   "execution_count": null,
   "metadata": {},
   "outputs": [],
   "source": []
  }
 ],
 "metadata": {
  "kernelspec": {
   "display_name": "Python 3",
   "language": "python",
   "name": "python3"
  },
  "language_info": {
   "codemirror_mode": {
    "name": "ipython",
    "version": 3
   },
   "file_extension": ".py",
   "mimetype": "text/x-python",
   "name": "python",
   "nbconvert_exporter": "python",
   "pygments_lexer": "ipython3",
   "version": "3.6.5"
  }
 },
 "nbformat": 4,
 "nbformat_minor": 2
}
