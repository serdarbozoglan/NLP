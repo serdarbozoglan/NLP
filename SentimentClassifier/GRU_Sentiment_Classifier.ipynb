{
 "cells": [
  {
   "cell_type": "code",
   "execution_count": 1,
   "metadata": {},
   "outputs": [],
   "source": [
    "import tensorflow\n",
    "from tensorflow.keras.datasets import imdb\n",
    "from tensorflow.keras.preprocessing.sequence import pad_sequences\n",
    "from tensorflow.keras.models import Sequential\n",
    "from tensorflow.keras.layers import Dense, Dropout, Embedding, SpatialDropout1D\n",
    "from tensorflow.keras.layers import GRU\n",
    "from tensorflow.keras.callbacks import ModelCheckpoint\n",
    "import os\n",
    "from sklearn.metrics import roc_auc_score, roc_curve\n",
    "import modin.pandas as pd\n",
    "import matplotlib.pyplot as plt"
   ]
  },
  {
   "cell_type": "markdown",
   "metadata": {},
   "source": [
    "### Set hyperparameters"
   ]
  },
  {
   "cell_type": "code",
   "execution_count": 5,
   "metadata": {},
   "outputs": [],
   "source": [
    "output_dir = 'model_output/gru'\n",
    "\n",
    "# training\n",
    "EPOCHS = 4\n",
    "BATCH_SIZE = 128\n",
    "\n",
    "# vector-space embedding\n",
    "N_DIM = 64\n",
    "N_UNIQUE_WORDS = 10000\n",
    "MAX_REVIEW_LENGTH = 100 # we lower due to vanishing gradient over time\n",
    "PAD_TYPE = TRUNC_TYPE = 'pre'\n",
    "DROP_EMBED = 0.2 # this is for Embedding Layer\n",
    "\n",
    "# RNN layer architecture\n",
    "N_GRU = 256 # filters a.k.a. kernels\n",
    "DROP_GRU = 0.2\n",
    "\n",
    "\n",
    "## Dense Layer genellikle kullanilmaz RNN'den sonra ama ConV'dan sonra kullanilir\n",
    "# neural network architecture\n",
    "# N_DENSE = 256\n",
    "# DROPOUT = 0.2"
   ]
  },
  {
   "cell_type": "code",
   "execution_count": 6,
   "metadata": {},
   "outputs": [],
   "source": [
    "(X_train, y_train), (X_valid, y_valid) = imdb.load_data(num_words = N_UNIQUE_WORDS)"
   ]
  },
  {
   "cell_type": "markdown",
   "metadata": {},
   "source": [
    "### Preprocess"
   ]
  },
  {
   "cell_type": "code",
   "execution_count": 7,
   "metadata": {},
   "outputs": [],
   "source": [
    "X_train = pad_sequences(X_train, maxlen=MAX_REVIEW_LENGTH,\n",
    "                      padding=PAD_TYPE, truncating=TRUNC_TYPE, value=0)\n",
    "\n",
    "X_valid = pad_sequences(X_valid, maxlen=MAX_REVIEW_LENGTH,\n",
    "                      padding=PAD_TYPE, truncating=TRUNC_TYPE, value=0)"
   ]
  },
  {
   "cell_type": "markdown",
   "metadata": {},
   "source": [
    "### GRU Architecture"
   ]
  },
  {
   "cell_type": "code",
   "execution_count": 8,
   "metadata": {},
   "outputs": [],
   "source": [
    "model = Sequential()\n",
    "\n",
    "# first hidden layer --> Embedding Layer\n",
    "model.add(Embedding(N_UNIQUE_WORDS, N_DIM, input_length=MAX_REVIEW_LENGTH))\n",
    "model.add(SpatialDropout1D(DROP_EMBED))\n",
    "\n",
    "\n",
    "# second hidden layer --> Dense Layer\n",
    "model.add(GRU(N_GRU, dropout=DROP_GRU)) # image icin Conv2D kullanilir\n",
    "\n",
    "# third hidden layer --> Dense Layer\n",
    "# model.add(Dense(N_DENSE, activation='relu'))\n",
    "# model.add(Dropout(DROPOUT))\n",
    "\n",
    "\n",
    "# output layer\n",
    "model.add(Dense(1, activation='sigmoid'))"
   ]
  },
  {
   "cell_type": "code",
   "execution_count": 9,
   "metadata": {},
   "outputs": [
    {
     "name": "stdout",
     "output_type": "stream",
     "text": [
      "Model: \"sequential\"\n",
      "_________________________________________________________________\n",
      "Layer (type)                 Output Shape              Param #   \n",
      "=================================================================\n",
      "embedding (Embedding)        (None, 100, 64)           640000    \n",
      "_________________________________________________________________\n",
      "spatial_dropout1d (SpatialDr (None, 100, 64)           0         \n",
      "_________________________________________________________________\n",
      "gru (GRU)                    (None, 256)               247296    \n",
      "_________________________________________________________________\n",
      "dense (Dense)                (None, 1)                 257       \n",
      "=================================================================\n",
      "Total params: 887,553\n",
      "Trainable params: 887,553\n",
      "Non-trainable params: 0\n",
      "_________________________________________________________________\n"
     ]
    }
   ],
   "source": [
    "model.summary()"
   ]
  },
  {
   "cell_type": "markdown",
   "metadata": {},
   "source": [
    "### Compile Model"
   ]
  },
  {
   "cell_type": "code",
   "execution_count": 10,
   "metadata": {},
   "outputs": [],
   "source": [
    "model.compile(loss='binary_crossentropy', optimizer='nadam', metrics=['accuracy'])"
   ]
  },
  {
   "cell_type": "code",
   "execution_count": 11,
   "metadata": {},
   "outputs": [],
   "source": [
    "modelcheckpoint = ModelCheckpoint(filepath=output_dir+\"/weights.{epoch:02d}.hdf5\")"
   ]
  },
  {
   "cell_type": "code",
   "execution_count": 12,
   "metadata": {},
   "outputs": [],
   "source": [
    "if not os.path.exists(output_dir):\n",
    "    os.makedirs(output_dir)"
   ]
  },
  {
   "cell_type": "markdown",
   "metadata": {},
   "source": [
    "### Train Model"
   ]
  },
  {
   "cell_type": "code",
   "execution_count": 13,
   "metadata": {},
   "outputs": [
    {
     "name": "stdout",
     "output_type": "stream",
     "text": [
      "Train on 25000 samples, validate on 25000 samples\n",
      "Epoch 1/4\n",
      "25000/25000 [==============================] - 55s 2ms/sample - loss: 0.6312 - accuracy: 0.6533 - val_loss: 0.4792 - val_accuracy: 0.7707\n",
      "Epoch 2/4\n",
      "25000/25000 [==============================] - 50s 2ms/sample - loss: 0.3572 - accuracy: 0.8432 - val_loss: 0.5007 - val_accuracy: 0.8181\n",
      "Epoch 3/4\n",
      "25000/25000 [==============================] - 51s 2ms/sample - loss: 0.2805 - accuracy: 0.8864 - val_loss: 0.3511 - val_accuracy: 0.8469\n",
      "Epoch 4/4\n",
      "25000/25000 [==============================] - 48s 2ms/sample - loss: 0.2360 - accuracy: 0.9075 - val_loss: 0.3520 - val_accuracy: 0.8450\n"
     ]
    },
    {
     "data": {
      "text/plain": [
       "<tensorflow.python.keras.callbacks.History at 0x7faeac363490>"
      ]
     },
     "execution_count": 13,
     "metadata": {},
     "output_type": "execute_result"
    }
   ],
   "source": [
    "model.fit(X_train, y_train,\n",
    "         batch_size=BATCH_SIZE, epochs=EPOCHS, verbose=1,\n",
    "         validation_data=(X_valid, y_valid),\n",
    "         callbacks=[modelcheckpoint])"
   ]
  },
  {
   "cell_type": "code",
   "execution_count": 46,
   "metadata": {},
   "outputs": [],
   "source": [
    "# best one is 3rd epoch"
   ]
  },
  {
   "cell_type": "code",
   "execution_count": 14,
   "metadata": {},
   "outputs": [],
   "source": [
    "model.load_weights(output_dir+\"/weights.03.hdf5\")"
   ]
  },
  {
   "cell_type": "markdown",
   "metadata": {},
   "source": [
    "### Evaluate"
   ]
  },
  {
   "cell_type": "code",
   "execution_count": 15,
   "metadata": {},
   "outputs": [],
   "source": [
    "y_pred = model.predict_proba(X_valid)"
   ]
  },
  {
   "cell_type": "code",
   "execution_count": 16,
   "metadata": {},
   "outputs": [
    {
     "data": {
      "image/png": "[encoded data removed]",
      "text/plain": [
       "<Figure size 432x288 with 1 Axes>"
      ]
     },
     "metadata": {
      "needs_background": "light"
     },
     "output_type": "display_data"
    }
   ],
   "source": [
    "plt.hist(y_pred)\n",
    "_ = plt.axvline(0.5, color='red')"
   ]
  },
  {
   "cell_type": "code",
   "execution_count": 17,
   "metadata": {},
   "outputs": [
    {
     "name": "stdout",
     "output_type": "stream",
     "text": [
      "92.51273791999999\n"
     ]
    }
   ],
   "source": [
    "pct_auc = roc_auc_score(y_valid, y_pred)*100.0\n",
    "print(pct_auc)"
   ]
  }
 ],
 "metadata": {
  "kernelspec": {
   "display_name": "Python 3",
   "language": "python",
   "name": "python3"
  },
  "language_info": {
   "codemirror_mode": {
    "name": "ipython",
    "version": 3
   },
   "file_extension": ".py",
   "mimetype": "text/x-python",
   "name": "python",
   "nbconvert_exporter": "python",
   "pygments_lexer": "ipython3",
   "version": "3.7.4"
  }
 },
 "nbformat": 4,
 "nbformat_minor": 2
}
