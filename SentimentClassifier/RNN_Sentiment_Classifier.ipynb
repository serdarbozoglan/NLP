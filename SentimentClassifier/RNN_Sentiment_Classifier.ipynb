{
 "cells": [
  {
   "cell_type": "code",
   "execution_count": 1,
   "metadata": {},
   "outputs": [],
   "source": [
    "import tensorflow\n",
    "from tensorflow.keras.datasets import imdb\n",
    "from tensorflow.keras.preprocessing.sequence import pad_sequences\n",
    "from tensorflow.keras.models import Sequential\n",
    "from tensorflow.keras.layers import Dense, Dropout, Embedding, SpatialDropout1D\n",
    "from tensorflow.keras.layers import SimpleRNN\n",
    "from tensorflow.keras.callbacks import ModelCheckpoint\n",
    "import os\n",
    "from sklearn.metrics import roc_auc_score, roc_curve\n",
    "import modin.pandas as pd\n",
    "import matplotlib.pyplot as plt"
   ]
  },
  {
   "cell_type": "markdown",
   "metadata": {},
   "source": [
    "### Set hyperparameters"
   ]
  },
  {
   "cell_type": "code",
   "execution_count": 2,
   "metadata": {},
   "outputs": [],
   "source": [
    "output_dir = 'model_output/rnn'\n",
    "\n",
    "# training\n",
    "EPOCHS = 16 # way more\n",
    "BATCH_SIZE = 128\n",
    "\n",
    "# vector-space embedding\n",
    "N_DIM = 64\n",
    "N_UNIQUE_WORDS = 10000\n",
    "MAX_REVIEW_LENGTH = 100 # we lower due to vanishing gradient over time\n",
    "PAD_TYPE = TRUNC_TYPE = 'pre'\n",
    "DROP_EMBED = 0.2 # this is for Embedding Layer\n",
    "\n",
    "# RNN layer architecture\n",
    "N_RNN = 256 # filters a.k.a. kernels\n",
    "DROP_RNN = 0.2\n",
    "\n",
    "\n",
    "## Dense Layer genellikle kullanilmaz RNN'den sonra ama ConV'dan sonra kullanilir\n",
    "# neural network architecture\n",
    "# N_DENSE = 256\n",
    "# DROPOUT = 0.2"
   ]
  },
  {
   "cell_type": "code",
   "execution_count": 3,
   "metadata": {},
   "outputs": [],
   "source": [
    "(X_train, y_train), (X_valid, y_valid) = imdb.load_data(num_words = N_UNIQUE_WORDS)"
   ]
  },
  {
   "cell_type": "markdown",
   "metadata": {},
   "source": [
    "### Preprocess"
   ]
  },
  {
   "cell_type": "code",
   "execution_count": 4,
   "metadata": {},
   "outputs": [],
   "source": [
    "X_train = pad_sequences(X_train, maxlen=MAX_REVIEW_LENGTH,\n",
    "                      padding=PAD_TYPE, truncating=TRUNC_TYPE, value=0)\n",
    "\n",
    "X_valid = pad_sequences(X_valid, maxlen=MAX_REVIEW_LENGTH,\n",
    "                      padding=PAD_TYPE, truncating=TRUNC_TYPE, value=0)"
   ]
  },
  {
   "cell_type": "markdown",
   "metadata": {},
   "source": [
    "### RNN Architecture"
   ]
  },
  {
   "cell_type": "code",
   "execution_count": 6,
   "metadata": {},
   "outputs": [],
   "source": [
    "model = Sequential()\n",
    "\n",
    "# first hidden layer --> Embedding Layer\n",
    "model.add(Embedding(N_UNIQUE_WORDS, N_DIM, input_length=MAX_REVIEW_LENGTH))\n",
    "model.add(SpatialDropout1D(DROP_EMBED))\n",
    "\n",
    "\n",
    "# second hidden layer --> Dense Layer\n",
    "model.add(SimpleRNN(N_RNN, dropout=DROP_RNN)) \n",
    "\n",
    "# third hidden layer --> Dense Layer\n",
    "# model.add(Dense(N_DENSE, activation='relu'))\n",
    "# model.add(Dropout(DROPOUT))\n",
    "\n",
    "\n",
    "# output layer\n",
    "model.add(Dense(1, activation='sigmoid'))"
   ]
  },
  {
   "cell_type": "code",
   "execution_count": 7,
   "metadata": {},
   "outputs": [
    {
     "name": "stdout",
     "output_type": "stream",
     "text": [
      "Model: \"sequential_1\"\n",
      "_________________________________________________________________\n",
      "Layer (type)                 Output Shape              Param #   \n",
      "=================================================================\n",
      "embedding_1 (Embedding)      (None, 100, 64)           640000    \n",
      "_________________________________________________________________\n",
      "spatial_dropout1d_1 (Spatial (None, 100, 64)           0         \n",
      "_________________________________________________________________\n",
      "simple_rnn (SimpleRNN)       (None, 256)               82176     \n",
      "_________________________________________________________________\n",
      "dense (Dense)                (None, 1)                 257       \n",
      "=================================================================\n",
      "Total params: 722,433\n",
      "Trainable params: 722,433\n",
      "Non-trainable params: 0\n",
      "_________________________________________________________________\n"
     ]
    }
   ],
   "source": [
    "model.summary()"
   ]
  },
  {
   "cell_type": "markdown",
   "metadata": {},
   "source": [
    "### Compile Model"
   ]
  },
  {
   "cell_type": "code",
   "execution_count": 8,
   "metadata": {},
   "outputs": [],
   "source": [
    "model.compile(loss='binary_crossentropy', optimizer='nadam', metrics=['accuracy'])"
   ]
  },
  {
   "cell_type": "code",
   "execution_count": 9,
   "metadata": {},
   "outputs": [],
   "source": [
    "modelcheckpoint = ModelCheckpoint(filepath=output_dir+\"/weights.{epoch:02d}.hdf5\")"
   ]
  },
  {
   "cell_type": "code",
   "execution_count": 10,
   "metadata": {},
   "outputs": [],
   "source": [
    "if not os.path.exists(output_dir):\n",
    "    os.makedirs(output_dir)"
   ]
  },
  {
   "cell_type": "markdown",
   "metadata": {},
   "source": [
    "### Train Model"
   ]
  },
  {
   "cell_type": "code",
   "execution_count": 11,
   "metadata": {},
   "outputs": [
    {
     "name": "stdout",
     "output_type": "stream",
     "text": [
      "Train on 25000 samples, validate on 25000 samples\n",
      "Epoch 1/16\n",
      "25000/25000 [==============================] - 18s 702us/sample - loss: 1.5972 - accuracy: 0.5622 - val_loss: 0.6512 - val_accuracy: 0.5984\n",
      "Epoch 2/16\n",
      "25000/25000 [==============================] - 17s 670us/sample - loss: 0.6511 - accuracy: 0.6490 - val_loss: 0.6351 - val_accuracy: 0.6147\n",
      "Epoch 3/16\n",
      "25000/25000 [==============================] - 17s 694us/sample - loss: 0.6470 - accuracy: 0.6646 - val_loss: 0.6281 - val_accuracy: 0.6392\n",
      "Epoch 4/16\n",
      "25000/25000 [==============================] - 18s 713us/sample - loss: 144.9349 - accuracy: 0.6435 - val_loss: 0.6342 - val_accuracy: 0.6360\n",
      "Epoch 5/16\n",
      "25000/25000 [==============================] - 18s 706us/sample - loss: 0.6060 - accuracy: 0.6790 - val_loss: 0.5822 - val_accuracy: 0.6844\n",
      "Epoch 6/16\n",
      "25000/25000 [==============================] - 18s 701us/sample - loss: 1.5371 - accuracy: 0.6371 - val_loss: 0.6476 - val_accuracy: 0.5680\n",
      "Epoch 7/16\n",
      "25000/25000 [==============================] - 18s 705us/sample - loss: 0.6095 - accuracy: 0.6648 - val_loss: 0.6210 - val_accuracy: 0.6445\n",
      "Epoch 8/16\n",
      "25000/25000 [==============================] - 18s 716us/sample - loss: 34.3591 - accuracy: 0.6712 - val_loss: 0.6316 - val_accuracy: 0.5839\n",
      "Epoch 9/16\n",
      "25000/25000 [==============================] - 18s 703us/sample - loss: 0.5439 - accuracy: 0.7156 - val_loss: 1.5047 - val_accuracy: 0.6303\n",
      "Epoch 10/16\n",
      "25000/25000 [==============================] - 17s 681us/sample - loss: 0.5231 - accuracy: 0.7478 - val_loss: 0.4542 - val_accuracy: 0.7922\n",
      "Epoch 11/16\n",
      "25000/25000 [==============================] - 17s 685us/sample - loss: 0.3891 - accuracy: 0.8246 - val_loss: 0.4332 - val_accuracy: 0.7945\n",
      "Epoch 12/16\n",
      "25000/25000 [==============================] - 17s 679us/sample - loss: 0.3603 - accuracy: 0.8460 - val_loss: 0.4037 - val_accuracy: 0.8183\n",
      "Epoch 13/16\n",
      "25000/25000 [==============================] - 17s 679us/sample - loss: 0.3143 - accuracy: 0.8654 - val_loss: 0.4425 - val_accuracy: 0.8051\n",
      "Epoch 14/16\n",
      "25000/25000 [==============================] - 17s 687us/sample - loss: 0.2883 - accuracy: 0.8786 - val_loss: 0.4044 - val_accuracy: 0.8218\n",
      "Epoch 15/16\n",
      "25000/25000 [==============================] - 17s 686us/sample - loss: 0.2622 - accuracy: 0.8933 - val_loss: 0.4309 - val_accuracy: 0.8224\n",
      "Epoch 16/16\n",
      "25000/25000 [==============================] - 17s 690us/sample - loss: 0.2443 - accuracy: 0.9014 - val_loss: 0.4358 - val_accuracy: 0.8171\n"
     ]
    },
    {
     "data": {
      "text/plain": [
       "<tensorflow.python.keras.callbacks.History at 0x7fa54b96ae10>"
      ]
     },
     "execution_count": 11,
     "metadata": {},
     "output_type": "execute_result"
    }
   ],
   "source": [
    "model.fit(X_train, y_train,\n",
    "         batch_size=BATCH_SIZE, epochs=EPOCHS, verbose=1,\n",
    "         validation_data=(X_valid, y_valid),\n",
    "         callbacks=[modelcheckpoint])"
   ]
  },
  {
   "cell_type": "code",
   "execution_count": 12,
   "metadata": {},
   "outputs": [],
   "source": [
    "# best one is 15th epoch"
   ]
  },
  {
   "cell_type": "code",
   "execution_count": 13,
   "metadata": {},
   "outputs": [],
   "source": [
    "model.load_weights(output_dir+\"/weights.15.hdf5\")"
   ]
  },
  {
   "cell_type": "markdown",
   "metadata": {},
   "source": [
    "### Evaluate"
   ]
  },
  {
   "cell_type": "code",
   "execution_count": 14,
   "metadata": {},
   "outputs": [],
   "source": [
    "y_pred = model.predict_proba(X_valid)"
   ]
  },
  {
   "cell_type": "code",
   "execution_count": 15,
   "metadata": {},
   "outputs": [
    {
     "data": {
      "image/png": "[encoded data removed]",
      "text/plain": [
       "<Figure size 432x288 with 1 Axes>"
      ]
     },
     "metadata": {
      "needs_background": "light"
     },
     "output_type": "display_data"
    }
   ],
   "source": [
    "plt.hist(y_pred)\n",
    "_ = plt.axvline(0.5, color='red')"
   ]
  },
  {
   "cell_type": "code",
   "execution_count": 16,
   "metadata": {},
   "outputs": [
    {
     "name": "stdout",
     "output_type": "stream",
     "text": [
      "90.75117888\n"
     ]
    }
   ],
   "source": [
    "pct_auc = roc_auc_score(y_valid, y_pred)*100.0\n",
    "print(pct_auc)"
   ]
  }
 ],
 "metadata": {
  "kernelspec": {
   "display_name": "Python 3",
   "language": "python",
   "name": "python3"
  },
  "language_info": {
   "codemirror_mode": {
    "name": "ipython",
    "version": 3
   },
   "file_extension": ".py",
   "mimetype": "text/x-python",
   "name": "python",
   "nbconvert_exporter": "python",
   "pygments_lexer": "ipython3",
   "version": "3.7.4"
  }
 },
 "nbformat": 4,
 "nbformat_minor": 2
}
