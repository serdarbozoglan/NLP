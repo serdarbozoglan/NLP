{
  "nbformat": 4,
  "nbformat_minor": 0,
  "metadata": {
    "colab": {
      "name": "Keras_Classification2.ipynb",
      "version": "0.3.2",
      "provenance": [],
      "collapsed_sections": [],
      "include_colab_link": true
    },
    "kernelspec": {
      "name": "python3",
      "display_name": "Python 3"
    }
  },
  "cells": [
    {
      "cell_type": "markdown",
      "metadata": {
        "id": "view-in-github",
        "colab_type": "text"
      },
      "source": [
        "<a href=\"https://colab.research.google.com/github/serdarbozoglan/NLP/blob/master/Keras/Keras_Classification2.ipynb\" target=\"_parent\"><img src=\"https://colab.research.google.com/assets/colab-badge.svg\" alt=\"Open In Colab\"/></a>"
      ]
    },
    {
      "metadata": {
        "id": "S1anwjQILa8-",
        "colab_type": "code",
        "colab": {}
      },
      "cell_type": "code",
      "source": [
        "from keras.datasets import imdb\n",
        "\n",
        "max_words =10000\n",
        "(X_train, y_train), (X_test, y_test) = imdb.load_data(num_words=max_words)\n",
        "# num_words=10000 means only keeping the top 10,000 most frequently occurring words in the training dat"
      ],
      "execution_count": 0,
      "outputs": []
    },
    {
      "metadata": {
        "id": "a4I9W8XFLgrV",
        "colab_type": "code",
        "colab": {
          "base_uri": "https://localhost:8080/",
          "height": 54
        },
        "outputId": "0693df15-18a4-443d-afc2-acb8f280bd96"
      },
      "cell_type": "code",
      "source": [
        "print(X_train[0])\n"
      ],
      "execution_count": 114,
      "outputs": [
        {
          "output_type": "stream",
          "text": [
            "[1, 14, 22, 16, 43, 530, 973, 1622, 1385, 65, 458, 4468, 66, 3941, 4, 173, 36, 256, 5, 25, 100, 43, 838, 112, 50, 670, 2, 9, 35, 480, 284, 5, 150, 4, 172, 112, 167, 2, 336, 385, 39, 4, 172, 4536, 1111, 17, 546, 38, 13, 447, 4, 192, 50, 16, 6, 147, 2025, 19, 14, 22, 4, 1920, 4613, 469, 4, 22, 71, 87, 12, 16, 43, 530, 38, 76, 15, 13, 1247, 4, 22, 17, 515, 17, 12, 16, 626, 18, 2, 5, 62, 386, 12, 8, 316, 8, 106, 5, 4, 2223, 5244, 16, 480, 66, 3785, 33, 4, 130, 12, 16, 38, 619, 5, 25, 124, 51, 36, 135, 48, 25, 1415, 33, 6, 22, 12, 215, 28, 77, 52, 5, 14, 407, 16, 82, 2, 8, 4, 107, 117, 5952, 15, 256, 4, 2, 7, 3766, 5, 723, 36, 71, 43, 530, 476, 26, 400, 317, 46, 7, 4, 2, 1029, 13, 104, 88, 4, 381, 15, 297, 98, 32, 2071, 56, 26, 141, 6, 194, 7486, 18, 4, 226, 22, 21, 134, 476, 26, 480, 5, 144, 30, 5535, 18, 51, 36, 28, 224, 92, 25, 104, 4, 226, 65, 16, 38, 1334, 88, 12, 16, 283, 5, 16, 4472, 113, 103, 32, 15, 16, 5345, 19, 178, 32]\n"
          ],
          "name": "stdout"
        }
      ]
    },
    {
      "metadata": {
        "id": "G52XG-QyL46s",
        "colab_type": "code",
        "colab": {
          "base_uri": "https://localhost:8080/",
          "height": 34
        },
        "outputId": "859170a9-5d40-469d-b148-fd805d0ae470"
      },
      "cell_type": "code",
      "source": [
        "y_train[0]# 0 stands for negative and 1 stands for positive:"
      ],
      "execution_count": 115,
      "outputs": [
        {
          "output_type": "execute_result",
          "data": {
            "text/plain": [
              "1"
            ]
          },
          "metadata": {
            "tags": []
          },
          "execution_count": 115
        }
      ]
    },
    {
      "metadata": {
        "id": "zrUh0Xk2MCN0",
        "colab_type": "code",
        "colab": {
          "base_uri": "https://localhost:8080/",
          "height": 34
        },
        "outputId": "079382a3-8f93-441d-efab-cb669269e3ce"
      },
      "cell_type": "code",
      "source": [
        "max([max(sequence) for sequence in X_train])\n",
        "# we have 10000 words so the max should be 9999"
      ],
      "execution_count": 116,
      "outputs": [
        {
          "output_type": "execute_result",
          "data": {
            "text/plain": [
              "9999"
            ]
          },
          "metadata": {
            "tags": []
          },
          "execution_count": 116
        }
      ]
    },
    {
      "metadata": {
        "id": "hVo9YVFlMHgy",
        "colab_type": "code",
        "colab": {}
      },
      "cell_type": "code",
      "source": [
        "## From index to English word-flipping the dictionary\n",
        "\n",
        "word_index = imdb.get_word_index()\n",
        "index_to_word = dict()\n",
        "\n",
        "\n",
        "# First way\n",
        "for key, value in word_index.items():\n",
        "    index_to_word[value]=key\n",
        "    \n",
        "# Second way\n",
        "#index_to_word = dict([(value, key) for (key, value) in word_index.items()])"
      ],
      "execution_count": 0,
      "outputs": []
    },
    {
      "metadata": {
        "id": "KI7iMzKPMMVh",
        "colab_type": "code",
        "colab": {
          "base_uri": "https://localhost:8080/",
          "height": 105
        },
        "outputId": "fe5a2f4b-ad2a-48fb-c412-6939f97759a5"
      },
      "cell_type": "code",
      "source": [
        "print((X_train[0]))\n",
        "print('\\n')\n",
        "print('Max index of in the first review :', max(X_train[0]))"
      ],
      "execution_count": 118,
      "outputs": [
        {
          "output_type": "stream",
          "text": [
            "[1, 14, 22, 16, 43, 530, 973, 1622, 1385, 65, 458, 4468, 66, 3941, 4, 173, 36, 256, 5, 25, 100, 43, 838, 112, 50, 670, 2, 9, 35, 480, 284, 5, 150, 4, 172, 112, 167, 2, 336, 385, 39, 4, 172, 4536, 1111, 17, 546, 38, 13, 447, 4, 192, 50, 16, 6, 147, 2025, 19, 14, 22, 4, 1920, 4613, 469, 4, 22, 71, 87, 12, 16, 43, 530, 38, 76, 15, 13, 1247, 4, 22, 17, 515, 17, 12, 16, 626, 18, 2, 5, 62, 386, 12, 8, 316, 8, 106, 5, 4, 2223, 5244, 16, 480, 66, 3785, 33, 4, 130, 12, 16, 38, 619, 5, 25, 124, 51, 36, 135, 48, 25, 1415, 33, 6, 22, 12, 215, 28, 77, 52, 5, 14, 407, 16, 82, 2, 8, 4, 107, 117, 5952, 15, 256, 4, 2, 7, 3766, 5, 723, 36, 71, 43, 530, 476, 26, 400, 317, 46, 7, 4, 2, 1029, 13, 104, 88, 4, 381, 15, 297, 98, 32, 2071, 56, 26, 141, 6, 194, 7486, 18, 4, 226, 22, 21, 134, 476, 26, 480, 5, 144, 30, 5535, 18, 51, 36, 28, 224, 92, 25, 104, 4, 226, 65, 16, 38, 1334, 88, 12, 16, 283, 5, 16, 4472, 113, 103, 32, 15, 16, 5345, 19, 178, 32]\n",
            "\n",
            "\n",
            "Max index of in the first review : 7486\n"
          ],
          "name": "stdout"
        }
      ]
    },
    {
      "metadata": {
        "id": "f0q2A5cMMPld",
        "colab_type": "code",
        "colab": {
          "base_uri": "https://localhost:8080/",
          "height": 34
        },
        "outputId": "b15cf66a-82e6-4519-b171-3042a86250f2"
      },
      "cell_type": "code",
      "source": [
        "word_index['money']\n"
      ],
      "execution_count": 119,
      "outputs": [
        {
          "output_type": "execute_result",
          "data": {
            "text/plain": [
              "275"
            ]
          },
          "metadata": {
            "tags": []
          },
          "execution_count": 119
        }
      ]
    },
    {
      "metadata": {
        "id": "xLTjt6PiMuE_",
        "colab_type": "code",
        "colab": {
          "base_uri": "https://localhost:8080/",
          "height": 34
        },
        "outputId": "8a860fdd-1c4c-41e8-d6ab-fb5649958686"
      },
      "cell_type": "code",
      "source": [
        "index_to_word[275]"
      ],
      "execution_count": 120,
      "outputs": [
        {
          "output_type": "execute_result",
          "data": {
            "text/plain": [
              "'money'"
            ]
          },
          "metadata": {
            "tags": []
          },
          "execution_count": 120
        }
      ]
    },
    {
      "metadata": {
        "id": "zkbOO9aTMnNM",
        "colab_type": "code",
        "colab": {
          "base_uri": "https://localhost:8080/",
          "height": 54
        },
        "outputId": "4d5928e3-cb72-4294-94f5-6a8732f4391b"
      },
      "cell_type": "code",
      "source": [
        "print(\" \".join([index_to_word[index] for index in X_train[0]]))"
      ],
      "execution_count": 121,
      "outputs": [
        {
          "output_type": "stream",
          "text": [
            "the as you with out themselves powerful lets loves their becomes reaching had journalist of lot from anyone to have after out atmosphere never more room and it so heart shows to years of every never going and help moments or of every chest visual movie except her was several of enough more with is now current film as you of mine potentially unfortunately of you than him that with out themselves her get for was camp of you movie sometimes movie that with scary but and to story wonderful that in seeing in character to of 70s musicians with heart had shadows they of here that with her serious to have does when from why what have critics they is you that isn't one will very to as itself with other and in of seen over landed for anyone of and br show's to whether from than out themselves history he name half some br of and odd was two most of mean for 1 any an boat she he should is thought frog but of script you not while history he heart to real at barrel but when from one bit then have two of script their with her nobody most that with wasn't to with armed acting watch an for with heartfelt film want an\n"
          ],
          "name": "stdout"
        }
      ]
    },
    {
      "metadata": {
        "id": "rAQCThr7Mn2q",
        "colab_type": "code",
        "colab": {
          "base_uri": "https://localhost:8080/",
          "height": 54
        },
        "outputId": "37d6b4f4-9e83-420d-f786-0a48dcf75f63"
      },
      "cell_type": "code",
      "source": [
        "# because 0, 1 and 2 are reserved indices for \"padding\", \"start of sequence\", and \"unknown\".\n",
        "decoded_review = ' '.join([index_to_word.get(i - 3, '?') for i in X_train[0]])\n",
        "\n",
        "print(decoded_review)"
      ],
      "execution_count": 122,
      "outputs": [
        {
          "output_type": "stream",
          "text": [
            "? this film was just brilliant casting location scenery story direction everyone's really suited the part they played and you could just imagine being there robert ? is an amazing actor and now the same being director ? father came from the same scottish island as myself so i loved the fact there was a real connection with this film the witty remarks throughout the film were great it was just brilliant so much that i bought the film as soon as it was released for ? and would recommend it to everyone to watch and the fly fishing was amazing really cried at the end it was so sad and you know what they say if you cry at a film it must have been good and this definitely was also ? to the two little boy's that played the ? of norman and paul they were just brilliant children are often left out of the ? list i think because the stars that play them all grown up are such a big profile for the whole film but these children are amazing and should be praised for what they have done don't you think the whole story was so lovely because it was true and was someone's life after all that was shared with us all\n"
          ],
          "name": "stdout"
        }
      ]
    },
    {
      "metadata": {
        "id": "fFMxocyHVzCf",
        "colab_type": "text"
      },
      "cell_type": "markdown",
      "source": [
        "Burada bir karisiklik var yukaridaki ornek mantiken dogru fakat asagikdaki ornek(index_to word) ise semantik olarak dogru. Teyit etmen lazim"
      ]
    },
    {
      "metadata": {
        "id": "Bb5KcA1iTH5A",
        "colab_type": "code",
        "colab": {}
      },
      "cell_type": "code",
      "source": [
        "from keras.preprocessing.text import Tokenizer\n",
        "\n",
        "## Encoding the Integer Sequences into Binary Matrix\n",
        "\n",
        "tokenizer = Tokenizer(num_words = max_words)\n",
        "\n",
        "X_train = tokenizer.sequences_to_matrix(X_train, mode='binary') \n",
        "# binary is used for if the word in first 10000 it will get 1, otherwise 0\n",
        "\n",
        "X_test = tokenizer.sequences_to_matrix(X_test, mode='binary')"
      ],
      "execution_count": 0,
      "outputs": []
    },
    {
      "metadata": {
        "id": "kVzXH_mJXxeg",
        "colab_type": "code",
        "colab": {
          "base_uri": "https://localhost:8080/",
          "height": 34
        },
        "outputId": "b5368f13-0ecf-4d1b-d8ac-b7a322c5c640"
      },
      "cell_type": "code",
      "source": [
        "## Encoded sample\n",
        "X_train[0]"
      ],
      "execution_count": 124,
      "outputs": [
        {
          "output_type": "execute_result",
          "data": {
            "text/plain": [
              "array([0., 1., 1., ..., 0., 0., 0.])"
            ]
          },
          "metadata": {
            "tags": []
          },
          "execution_count": 124
        }
      ]
    },
    {
      "metadata": {
        "id": "k1zNXi33YGya",
        "colab_type": "code",
        "colab": {}
      },
      "cell_type": "code",
      "source": [
        "## We should vectorize our labels as well\n",
        "import numpy as np\n",
        "y_train = np.asarray(y_train).astype('float32')\n",
        "y_test = np.asarray(y_test).astype('float32')"
      ],
      "execution_count": 0,
      "outputs": []
    },
    {
      "metadata": {
        "id": "giWWvjLwYD1O",
        "colab_type": "code",
        "colab": {}
      },
      "cell_type": "code",
      "source": [
        "## Now our data is ready to be fed into neural network\n",
        "\n",
        "from keras import models\n",
        "from keras.layers import Dense, Activation, Dropout\n",
        "from keras.models import Sequential\n",
        "\n",
        "model = Sequential()\n",
        "model.add(Dense(16, activation='relu', input_shape=(max_words, ))) # 16 shows hidden node number in this layer\n",
        "model.add(Dense(16, activation='relu'))\n",
        "model.add(Dense(1, activation='sigmoid'))          "
      ],
      "execution_count": 0,
      "outputs": []
    },
    {
      "metadata": {
        "id": "Z4u9qGCBetGJ",
        "colab_type": "text"
      },
      "cell_type": "markdown",
      "source": [
        "**Without an activation function **like relu (also called a non-linearity), our\n",
        "Dense layer would consist of two linear operations, a dot product and an\n",
        "addition. output = dot(W, input) + b\n",
        "So the layer could only learn linear transformations (affine\n",
        "transformations) of the input data, i.e. the hypothesis space of the layer\n",
        "would be the set of all possible linear transformations of the input data\n",
        "into a 16-dimensional space. Such an hypothesis space is too restricted,\n",
        "and wouldn’t benefit from multiple layers of representations, because a\n",
        "deep stack of linear layers would still implement a linear operation: adding\n",
        "more layers wouldn’t extend the hypothesis space."
      ]
    },
    {
      "metadata": {
        "id": "06V_FzyZfD0D",
        "colab_type": "text"
      },
      "cell_type": "markdown",
      "source": [
        "Lastly, we need to pick a loss function and an optimizer. Since we are facing a binary\n",
        "classification problem  and the output of our network is a probability (we end our network with a single-unit layer with a sigmoid activation), is it best to use the\n",
        "**binary_crossentropy loss**. It isn’t the only viable choice: you could use, for instance,\n",
        "mean_squared_error. But crossentropy is usually the best choice when you are dealing\n",
        "with models that output probabilities. Crossentropy is a quantity from the field of\n",
        "Information Theory, that measures the \"distance\" between probability distributions, or inour case, between the ground-truth distribution and our predictions."
      ]
    },
    {
      "metadata": {
        "id": "MhBEPVSCY_mt",
        "colab_type": "code",
        "colab": {}
      },
      "cell_type": "code",
      "source": [
        "model.compile(optimizer='rmsprop',\n",
        "             loss='binary_crossentropy',\n",
        "             metrics=['accuracy'])"
      ],
      "execution_count": 0,
      "outputs": []
    },
    {
      "metadata": {
        "id": "--O23mBdZBoX",
        "colab_type": "code",
        "colab": {}
      },
      "cell_type": "code",
      "source": [
        "## Configuring optimizer\n",
        "\n",
        "from keras import optimizers\n",
        "\n",
        "model.compile(optimizer=optimizers.RMSprop(lr=0.001),\n",
        "loss='binary_crossentropy',\n",
        "metrics=['accuracy'])"
      ],
      "execution_count": 0,
      "outputs": []
    },
    {
      "metadata": {
        "id": "37xHM24Gf5aE",
        "colab_type": "code",
        "colab": {}
      },
      "cell_type": "code",
      "source": [
        "## Using custom losses and metrics\n",
        "\n",
        "from keras import losses\n",
        "from keras import metrics\n",
        "\n",
        "model.compile(optimizer=optimizers.RMSprop(lr=0.001),\n",
        "loss=losses.binary_crossentropy,\n",
        "metrics=[metrics.binary_accuracy])"
      ],
      "execution_count": 0,
      "outputs": []
    },
    {
      "metadata": {
        "id": "pKdhNPb1gG8N",
        "colab_type": "code",
        "colab": {
          "base_uri": "https://localhost:8080/",
          "height": 428
        },
        "outputId": "ed303ee7-f7d7-4da7-d613-ab14e35a3824"
      },
      "cell_type": "code",
      "source": [
        "batch_size = 32\n",
        "epochs = 10\n",
        "\n",
        "history = model.fit(X_train, y_train, batch_size=batch_size, epochs=epochs, validation_split=0.1, verbose=1)\n",
        "#score = model.evaluate(X_test, y_test, batch_size=batch_size, verbose=1)\n",
        "\n",
        "#print(f\"Test accuracy {score[1]}\")"
      ],
      "execution_count": 130,
      "outputs": [
        {
          "output_type": "stream",
          "text": [
            "Train on 22500 samples, validate on 2500 samples\n",
            "Epoch 1/10\n",
            "22500/22500 [==============================] - 5s 210us/step - loss: 0.3279 - binary_accuracy: 0.8656 - val_loss: 0.2794 - val_binary_accuracy: 0.8948\n",
            "Epoch 2/10\n",
            "22500/22500 [==============================] - 4s 193us/step - loss: 0.2091 - binary_accuracy: 0.9204 - val_loss: 0.3560 - val_binary_accuracy: 0.8684\n",
            "Epoch 3/10\n",
            "22500/22500 [==============================] - 4s 192us/step - loss: 0.1762 - binary_accuracy: 0.9345 - val_loss: 0.3136 - val_binary_accuracy: 0.8880\n",
            "Epoch 4/10\n",
            "22500/22500 [==============================] - 4s 190us/step - loss: 0.1546 - binary_accuracy: 0.9429 - val_loss: 0.3384 - val_binary_accuracy: 0.8844\n",
            "Epoch 5/10\n",
            "22500/22500 [==============================] - 4s 184us/step - loss: 0.1357 - binary_accuracy: 0.9518 - val_loss: 0.3774 - val_binary_accuracy: 0.8796\n",
            "Epoch 6/10\n",
            "22500/22500 [==============================] - 4s 187us/step - loss: 0.1220 - binary_accuracy: 0.9569 - val_loss: 0.4019 - val_binary_accuracy: 0.8832\n",
            "Epoch 7/10\n",
            "22500/22500 [==============================] - 5s 211us/step - loss: 0.1087 - binary_accuracy: 0.9623 - val_loss: 0.4469 - val_binary_accuracy: 0.8788\n",
            "Epoch 8/10\n",
            "22500/22500 [==============================] - 5s 201us/step - loss: 0.0964 - binary_accuracy: 0.9664 - val_loss: 0.4738 - val_binary_accuracy: 0.8824\n",
            "Epoch 9/10\n",
            "22500/22500 [==============================] - 4s 187us/step - loss: 0.0864 - binary_accuracy: 0.9719 - val_loss: 0.4929 - val_binary_accuracy: 0.8796\n",
            "Epoch 10/10\n",
            "22500/22500 [==============================] - 4s 189us/step - loss: 0.0761 - binary_accuracy: 0.9749 - val_loss: 0.5411 - val_binary_accuracy: 0.8776\n",
            "25000/25000 [==============================] - 2s 72us/step\n",
            "Test accuracy 0.86592\n"
          ],
          "name": "stdout"
        }
      ]
    },
    {
      "metadata": {
        "id": "zyeuSZ7shNj4",
        "colab_type": "code",
        "colab": {
          "base_uri": "https://localhost:8080/",
          "height": 51
        },
        "outputId": "e4b7748b-3d1d-4532-9935-4bd1c7358ae9"
      },
      "cell_type": "code",
      "source": [
        "loss, accuracy = model.evaluate(X_train, y_train, verbose=False)\n",
        "print(f\"Training Accuracy : {round(accuracy, 4)}\")"
      ],
      "execution_count": 131,
      "outputs": [
        {
          "output_type": "stream",
          "text": [
            "Training Accuracy : 0.9732\n",
            "Testing Accuracy  : 0.8659\n"
          ],
          "name": "stdout"
        }
      ]
    },
    {
      "metadata": {
        "id": "l89b1Trmg501",
        "colab_type": "code",
        "colab": {
          "base_uri": "https://localhost:8080/",
          "height": 34
        },
        "outputId": "d1a953ae-c62e-4c95-a753-4f81de60beca"
      },
      "cell_type": "code",
      "source": [
        "print(history.history.keys())"
      ],
      "execution_count": 132,
      "outputs": [
        {
          "output_type": "stream",
          "text": [
            "dict_keys(['val_loss', 'val_binary_accuracy', 'loss', 'binary_accuracy'])\n"
          ],
          "name": "stdout"
        }
      ]
    },
    {
      "metadata": {
        "id": "nuvp0QBIkyVO",
        "colab_type": "text"
      },
      "cell_type": "markdown",
      "source": [
        "Note that the call to model.fit() returns a **History** object. This object has a\n",
        "member history, which is a dictionary containing data about everything that happened\n",
        "during training."
      ]
    },
    {
      "metadata": {
        "id": "Od-U7s8Pglz2",
        "colab_type": "code",
        "colab": {}
      },
      "cell_type": "code",
      "source": [
        "import matplotlib.pyplot as plt\n",
        "plt.style.use('ggplot')\n",
        "\n",
        "def plot_history(history):\n",
        "  acc = history.history['binary_accuracy']\n",
        "  val_acc = history.history['val_binary_accuracy']\n",
        "  loss = history.history['loss']\n",
        "  val_loss = history.history['val_loss']\n",
        "  x = range(1, len(acc)+1)\n",
        "  \n",
        "  # summarize history for accuracy\n",
        "  plt.figure(figsize=(12,5))\n",
        "  plt.subplot(1,2,1)\n",
        "  plt.plot(x, acc, 'b', label='Traning acc')\n",
        "  plt.plot(x, val_acc, 'r', label='Validation acc')\n",
        "  plt.title('Training and Validation Accuracy')\n",
        "  plt.legend()\n",
        "  \n",
        "  # summarize history for loss\n",
        "  plt.subplot(1,2,2)\n",
        "  plt.plot(x, loss, 'b', label='Traning loss')\n",
        "  plt.plot(x, val_loss, 'r', label='Validation loss')\n",
        "  plt.title('Training and Validation Loss')\n",
        "  plt.legend()"
      ],
      "execution_count": 0,
      "outputs": []
    },
    {
      "metadata": {
        "id": "LhB9uqAWgvFH",
        "colab_type": "code",
        "colab": {
          "base_uri": "https://localhost:8080/",
          "height": 357
        },
        "outputId": "967e4e25-6c95-4009-ab98-407f96587603"
      },
      "cell_type": "code",
      "source": [
        "plot_history(history)"
      ],
      "execution_count": 134,
      "outputs": [
        {
          "output_type": "display_data",
          "data": {
            "image/png": "[encoded data removed]",
            "text/plain": [
              "<Figure size 864x360 with 2 Axes>"
            ]
          },
          "metadata": {
            "tags": []
          }
        }
      ]
    },
    {
      "metadata": {
        "id": "KCgQeVs7iPYu",
        "colab_type": "code",
        "colab": {
          "base_uri": "https://localhost:8080/",
          "height": 380
        },
        "outputId": "bdfa7033-90cb-4edc-cf0e-16296288b84e"
      },
      "cell_type": "code",
      "source": [
        "## Plotting the training and validation loss\n",
        "\n",
        "import matplotlib.pyplot as plt\n",
        "acc = history.history['binary_accuracy']\n",
        "val_acc = history.history['val_binary_accuracy']\n",
        "loss = history.history['loss']\n",
        "val_loss = history.history['val_loss']\n",
        "epochs = range(1, len(acc) + 1)\n",
        "# \"bo\" is for \"blue dot\"\n",
        "plt.plot(epochs, loss, 'bo', label='Training loss')\n",
        "# b is for \"solid blue line\"\n",
        "plt.plot(epochs, val_loss, 'b', label='Validation loss')\n",
        "plt.title('Training and validation loss')\n",
        "plt.xlabel('Epochs')\n",
        "plt.ylabel('Loss')\n",
        "plt.legend()\n",
        "plt.show()"
      ],
      "execution_count": 135,
      "outputs": [
        {
          "output_type": "display_data",
          "data": {
            "image/png": "[encoded data removed]",
            "text/plain": [
              "<Figure size 576x396 with 1 Axes>"
            ]
          },
          "metadata": {
            "tags": []
          }
        }
      ]
    },
    {
      "metadata": {
        "id": "pGNzTgAalKtb",
        "colab_type": "code",
        "colab": {
          "base_uri": "https://localhost:8080/",
          "height": 380
        },
        "outputId": "5b610b73-3913-4c09-9e79-d2f6530d3d88"
      },
      "cell_type": "code",
      "source": [
        "## ## Plotting the training and validation loss\n",
        "\n",
        "plt.clf() # clear figure\n",
        "acc_values = history.history['binary_accuracy']\n",
        "val_acc_values = history.history['val_binary_accuracy']\n",
        "plt.plot(epochs, acc, 'ro', label='Training acc')\n",
        "plt.plot(epochs, val_acc, 'r', label='Validation acc')\n",
        "plt.title('Training and validation accuracy')\n",
        "plt.xlabel('Epochs')\n",
        "plt.ylabel('Loss')\n",
        "plt.legend()\n",
        "plt.show()"
      ],
      "execution_count": 136,
      "outputs": [
        {
          "output_type": "display_data",
          "data": {
            "image/png": "[encoded data removed]",
            "text/plain": [
              "<Figure size 576x396 with 1 Axes>"
            ]
          },
          "metadata": {
            "tags": []
          }
        }
      ]
    },
    {
      "metadata": {
        "id": "rXvOhL1NnNO5",
        "colab_type": "text"
      },
      "cell_type": "markdown",
      "source": [
        "Model is definitely **overfitting**. In this case, to prevent overfitting, we could simply stop training after three epochs."
      ]
    },
    {
      "metadata": {
        "id": "30g8VEgQmPT2",
        "colab_type": "code",
        "colab": {
          "base_uri": "https://localhost:8080/",
          "height": 224
        },
        "outputId": "20f9de50-5c3b-46fd-fc8c-d24588c20402"
      },
      "cell_type": "code",
      "source": [
        "## RE-TRAIN FOR TESTING SET\n",
        "\n",
        "model = Sequential()\n",
        "model.add(Dense(16, activation='relu', input_shape=(max_words, ))) # 16 shows hidden node number in this layer\n",
        "model.add(Dense(16, activation='relu'))\n",
        "model.add(Dense(1, activation='sigmoid'))   \n",
        "\n",
        "model.compile(optimizer=optimizers.RMSprop(lr=0.001),\n",
        "loss=losses.binary_crossentropy,\n",
        "metrics=[metrics.binary_accuracy])\n",
        "\n",
        "\n",
        "batch_size = 32\n",
        "epochs = 4\n",
        "\n",
        "model.fit(X_train, y_train, batch_size=batch_size, epochs=epochs, validation_split=0.1, verbose=1)\n",
        "score = model.evaluate(X_test, y_test, batch_size=batch_size, verbose=1)\n",
        "\n",
        "print(f\"Test accuracy {score[1]}\")"
      ],
      "execution_count": 138,
      "outputs": [
        {
          "output_type": "stream",
          "text": [
            "Train on 22500 samples, validate on 2500 samples\n",
            "Epoch 1/4\n",
            "22500/22500 [==============================] - 4s 188us/step - loss: 0.3326 - binary_accuracy: 0.8635 - val_loss: 0.2933 - val_binary_accuracy: 0.8884\n",
            "Epoch 2/4\n",
            "22500/22500 [==============================] - 4s 176us/step - loss: 0.2099 - binary_accuracy: 0.9215 - val_loss: 0.2948 - val_binary_accuracy: 0.8896\n",
            "Epoch 3/4\n",
            "22500/22500 [==============================] - 4s 176us/step - loss: 0.1779 - binary_accuracy: 0.9348 - val_loss: 0.3054 - val_binary_accuracy: 0.8908\n",
            "Epoch 4/4\n",
            "22500/22500 [==============================] - 4s 173us/step - loss: 0.1573 - binary_accuracy: 0.9419 - val_loss: 0.3144 - val_binary_accuracy: 0.8912\n",
            "25000/25000 [==============================] - 2s 68us/step\n",
            "Test accuracy 0.877\n"
          ],
          "name": "stdout"
        }
      ]
    },
    {
      "metadata": {
        "id": "8_hAbIi7pHPW",
        "colab_type": "text"
      },
      "cell_type": "markdown",
      "source": [
        "After having trained a network, you will want to use it in a practical setting. You can\n",
        "generate the likelihood of reviews b**eing positive by using the predict method**:"
      ]
    },
    {
      "metadata": {
        "id": "1NMPWIE9oJ2f",
        "colab_type": "code",
        "colab": {
          "base_uri": "https://localhost:8080/",
          "height": 136
        },
        "outputId": "79fbba97-1d82-4976-abf1-692f39c0d6d3"
      },
      "cell_type": "code",
      "source": [
        "model.predict(X_test)"
      ],
      "execution_count": 140,
      "outputs": [
        {
          "output_type": "execute_result",
          "data": {
            "text/plain": [
              "array([[0.10224742],\n",
              "       [0.9995116 ],\n",
              "       [0.988284  ],\n",
              "       ...,\n",
              "       [0.31999767],\n",
              "       [0.05682945],\n",
              "       [0.2638765 ]], dtype=float32)"
            ]
          },
          "metadata": {
            "tags": []
          },
          "execution_count": 140
        }
      ]
    },
    {
      "metadata": {
        "id": "bOIm7Zs-pU2K",
        "colab_type": "text"
      },
      "cell_type": "markdown",
      "source": [
        "the network is very confident for some samples (0.99 or more, or 0.01 or less) but less confident for others (0.1, 0.3 or 0.1)."
      ]
    },
    {
      "metadata": {
        "id": "QBRDPtWqpliq",
        "colab_type": "text"
      },
      "cell_type": "markdown",
      "source": [
        "We were using 2 hidden layers.** Try to use 1 or 3 hidden layers** and see how it affects\n",
        "validation and test accuracy.\n",
        "Try to use** layers with more hidden units or less hidden units: 32 units, 64 units…**\n",
        "Try to **use the mse loss function** instead of binary_crossentropy.\n",
        "Try to use the **tanh activation** (an activation that was popular in the early days of neural\n",
        "networks) instead of relu."
      ]
    },
    {
      "metadata": {
        "id": "1H8TNHXwp0Dl",
        "colab_type": "code",
        "colab": {
          "base_uri": "https://localhost:8080/",
          "height": 224
        },
        "outputId": "36ae88fc-a268-408a-edec-71407c16b5fa"
      },
      "cell_type": "code",
      "source": [
        "## EXPERIMENT with ONE LAYER\n",
        "\n",
        "model = Sequential()\n",
        "model.add(Dense(16, activation='relu', input_shape=(max_words, ))) # 16 shows hidden node number in this layer\n",
        "model.add(Dense(1, activation='sigmoid'))   \n",
        "\n",
        "model.compile(optimizer=optimizers.RMSprop(lr=0.001),\n",
        "loss=losses.binary_crossentropy,\n",
        "metrics=[metrics.binary_accuracy])\n",
        "\n",
        "\n",
        "batch_size = 32\n",
        "epochs = 4\n",
        "\n",
        "model.fit(X_train, y_train, batch_size=batch_size, epochs=epochs, validation_split=0.1, verbose=1)\n",
        "score = model.evaluate(X_test, y_test, batch_size=batch_size, verbose=1)\n",
        "print(f\"Test accuracy {score[1]}\")"
      ],
      "execution_count": 142,
      "outputs": [
        {
          "output_type": "stream",
          "text": [
            "Train on 22500 samples, validate on 2500 samples\n",
            "Epoch 1/4\n",
            "22500/22500 [==============================] - 5s 212us/step - loss: 0.3240 - binary_accuracy: 0.8705 - val_loss: 0.2810 - val_binary_accuracy: 0.8872\n",
            "Epoch 2/4\n",
            "22500/22500 [==============================] - 4s 194us/step - loss: 0.2100 - binary_accuracy: 0.9204 - val_loss: 0.3125 - val_binary_accuracy: 0.8852\n",
            "Epoch 3/4\n",
            "22500/22500 [==============================] - 4s 194us/step - loss: 0.1784 - binary_accuracy: 0.9329 - val_loss: 0.3359 - val_binary_accuracy: 0.8812\n",
            "Epoch 4/4\n",
            "22500/22500 [==============================] - 4s 191us/step - loss: 0.1587 - binary_accuracy: 0.9411 - val_loss: 0.3201 - val_binary_accuracy: 0.8908\n",
            "25000/25000 [==============================] - 2s 73us/step\n",
            "Test accuracy 0.87664\n"
          ],
          "name": "stdout"
        }
      ]
    },
    {
      "metadata": {
        "id": "lYH3uzXvqFNT",
        "colab_type": "code",
        "colab": {
          "base_uri": "https://localhost:8080/",
          "height": 224
        },
        "outputId": "7c5ae036-06a0-4cff-e7f3-84fb888843ce"
      },
      "cell_type": "code",
      "source": [
        "## EXPERIMENT with THREE LAYERS\n",
        "\n",
        "model = Sequential()\n",
        "model.add(Dense(16, activation='relu', input_shape=(max_words, ))) # 16 shows hidden node number in this layer\n",
        "model.add(Dense(16, activation='relu'))\n",
        "model.add(Dense(16, activation='relu'))\n",
        "model.add(Dense(1, activation='sigmoid'))   \n",
        "\n",
        "model.compile(optimizer=optimizers.RMSprop(lr=0.001),\n",
        "loss=losses.binary_crossentropy,\n",
        "metrics=[metrics.binary_accuracy])\n",
        "\n",
        "batch_size = 32\n",
        "epochs = 4\n",
        "\n",
        "model.fit(X_train, y_train, batch_size=batch_size, epochs=epochs, validation_split=0.1, verbose=1)\n",
        "score = model.evaluate(X_test, y_test, batch_size=batch_size, verbose=1)\n",
        "print(f\"Test accuracy {score[1]}\")"
      ],
      "execution_count": 145,
      "outputs": [
        {
          "output_type": "stream",
          "text": [
            "Train on 22500 samples, validate on 2500 samples\n",
            "Epoch 1/4\n",
            "22500/22500 [==============================] - 5s 214us/step - loss: 0.3299 - binary_accuracy: 0.8628 - val_loss: 0.2776 - val_binary_accuracy: 0.8960\n",
            "Epoch 2/4\n",
            "22500/22500 [==============================] - 4s 191us/step - loss: 0.2095 - binary_accuracy: 0.9223 - val_loss: 0.2909 - val_binary_accuracy: 0.8936\n",
            "Epoch 3/4\n",
            "22500/22500 [==============================] - 4s 198us/step - loss: 0.1739 - binary_accuracy: 0.9370 - val_loss: 0.3091 - val_binary_accuracy: 0.8880\n",
            "Epoch 4/4\n",
            "22500/22500 [==============================] - 5s 209us/step - loss: 0.1465 - binary_accuracy: 0.9466 - val_loss: 0.3525 - val_binary_accuracy: 0.8864\n",
            "25000/25000 [==============================] - 2s 82us/step\n",
            "Test accuracy 0.87616\n"
          ],
          "name": "stdout"
        }
      ]
    },
    {
      "metadata": {
        "id": "MVGpRCuFqk1e",
        "colab_type": "code",
        "colab": {
          "base_uri": "https://localhost:8080/",
          "height": 224
        },
        "outputId": "0b14f76d-d694-4e96-faed-f09f7c2c7c20"
      },
      "cell_type": "code",
      "source": [
        "## EXPERIMENT with TANH\n",
        "\n",
        "model = Sequential()\n",
        "model.add(Dense(16, activation='tanh', input_shape=(max_words, ))) # 16 shows hidden node number in this layer\n",
        "model.add(Dense(16, activation='tanh'))\n",
        "model.add(Dense(16, activation='tanh'))\n",
        "model.add(Dense(1, activation='sigmoid'))   \n",
        "\n",
        "model.compile(optimizer=optimizers.RMSprop(lr=0.001),\n",
        "loss=losses.binary_crossentropy,\n",
        "metrics=[metrics.binary_accuracy])\n",
        "\n",
        "batch_size = 32\n",
        "epochs = 4\n",
        "\n",
        "model.fit(X_train, y_train, batch_size=batch_size, epochs=epochs, validation_split=0.1, verbose=1)\n",
        "score = model.evaluate(X_test, y_test, batch_size=batch_size, verbose=1)\n",
        "print(f\"Test accuracy {score[1]}\")"
      ],
      "execution_count": 146,
      "outputs": [
        {
          "output_type": "stream",
          "text": [
            "Train on 22500 samples, validate on 2500 samples\n",
            "Epoch 1/4\n",
            "22500/22500 [==============================] - 5s 225us/step - loss: 0.3158 - binary_accuracy: 0.8668 - val_loss: 0.2750 - val_binary_accuracy: 0.8928\n",
            "Epoch 2/4\n",
            "22500/22500 [==============================] - 4s 194us/step - loss: 0.2058 - binary_accuracy: 0.9220 - val_loss: 0.2736 - val_binary_accuracy: 0.8920\n",
            "Epoch 3/4\n",
            "22500/22500 [==============================] - 5s 200us/step - loss: 0.1708 - binary_accuracy: 0.9356 - val_loss: 0.2819 - val_binary_accuracy: 0.8924\n",
            "Epoch 4/4\n",
            "22500/22500 [==============================] - 4s 198us/step - loss: 0.1476 - binary_accuracy: 0.9459 - val_loss: 0.2969 - val_binary_accuracy: 0.8924\n",
            "25000/25000 [==============================] - 2s 74us/step\n",
            "Test accuracy 0.87376\n"
          ],
          "name": "stdout"
        }
      ]
    },
    {
      "metadata": {
        "id": "rT2gxaFhrUaE",
        "colab_type": "code",
        "colab": {
          "base_uri": "https://localhost:8080/",
          "height": 224
        },
        "outputId": "5f958524-e4db-4aab-a12b-5648a88b0911"
      },
      "cell_type": "code",
      "source": [
        "## EXPERIMENT with \"adam\" Optimizer\n",
        "\n",
        "model = Sequential()\n",
        "model.add(Dense(16, activation='tanh', input_shape=(max_words, ))) # 16 shows hidden node number in this layer\n",
        "model.add(Dense(16, activation='tanh'))\n",
        "model.add(Dense(16, activation='tanh'))\n",
        "model.add(Dense(1, activation='sigmoid'))   \n",
        "\n",
        "model.compile(optimizer='adam',\n",
        "loss=losses.binary_crossentropy,\n",
        "metrics=[metrics.binary_accuracy])\n",
        "\n",
        "batch_size = 32\n",
        "epochs = 4\n",
        "\n",
        "model.fit(X_train, y_train, batch_size=batch_size, epochs=epochs, validation_split=0.1, verbose=1)\n",
        "score = model.evaluate(X_test, y_test, batch_size=batch_size, verbose=1)\n",
        "print(f\"Test accuracy {score[1]}\")"
      ],
      "execution_count": 148,
      "outputs": [
        {
          "output_type": "stream",
          "text": [
            "Train on 22500 samples, validate on 2500 samples\n",
            "Epoch 1/4\n",
            "22500/22500 [==============================] - 5s 241us/step - loss: 0.3155 - binary_accuracy: 0.8654 - val_loss: 0.2896 - val_binary_accuracy: 0.8836\n",
            "Epoch 2/4\n",
            "22500/22500 [==============================] - 5s 204us/step - loss: 0.1752 - binary_accuracy: 0.9323 - val_loss: 0.3159 - val_binary_accuracy: 0.8828\n",
            "Epoch 3/4\n",
            "22500/22500 [==============================] - 5s 209us/step - loss: 0.1249 - binary_accuracy: 0.9508 - val_loss: 0.4032 - val_binary_accuracy: 0.8712\n",
            "Epoch 4/4\n",
            "22500/22500 [==============================] - 5s 205us/step - loss: 0.0929 - binary_accuracy: 0.9627 - val_loss: 0.4268 - val_binary_accuracy: 0.8764\n",
            "25000/25000 [==============================] - 2s 74us/step\n",
            "Test accuracy 0.86288\n"
          ],
          "name": "stdout"
        }
      ]
    },
    {
      "metadata": {
        "id": "RxbaPwC8rj3t",
        "colab_type": "code",
        "colab": {
          "base_uri": "https://localhost:8080/",
          "height": 224
        },
        "outputId": "f6ed399a-f244-4d87-db6b-739aa1f0f14a"
      },
      "cell_type": "code",
      "source": [
        "## EXPERIMENT with 'adam' + 'relu'\n",
        "\n",
        "model = Sequential()\n",
        "model.add(Dense(16, activation='relu', input_shape=(max_words, ))) # 16 shows hidden node number in this layer\n",
        "model.add(Dense(16, activation='relu'))\n",
        "model.add(Dense(16, activation='relu'))\n",
        "model.add(Dense(1, activation='sigmoid'))   \n",
        "\n",
        "model.compile(optimizer='adam',\n",
        "loss=losses.binary_crossentropy,\n",
        "metrics=[metrics.binary_accuracy])\n",
        "\n",
        "batch_size = 32\n",
        "epochs = 4\n",
        "\n",
        "model.fit(X_train, y_train, batch_size=batch_size, epochs=epochs, validation_split=0.1, verbose=1)\n",
        "score = model.evaluate(X_test, y_test, batch_size=batch_size, verbose=1)\n",
        "print(f\"Test accuracy {score[1]}\")"
      ],
      "execution_count": 149,
      "outputs": [
        {
          "output_type": "stream",
          "text": [
            "Train on 22500 samples, validate on 2500 samples\n",
            "Epoch 1/4\n",
            "22500/22500 [==============================] - 6s 253us/step - loss: 0.3364 - binary_accuracy: 0.8562 - val_loss: 0.2969 - val_binary_accuracy: 0.8864\n",
            "Epoch 2/4\n",
            "22500/22500 [==============================] - 5s 214us/step - loss: 0.1809 - binary_accuracy: 0.9310 - val_loss: 0.3113 - val_binary_accuracy: 0.8824\n",
            "Epoch 3/4\n",
            "22500/22500 [==============================] - 5s 216us/step - loss: 0.1185 - binary_accuracy: 0.9569 - val_loss: 0.3480 - val_binary_accuracy: 0.8808\n",
            "Epoch 4/4\n",
            "22500/22500 [==============================] - 5s 217us/step - loss: 0.0749 - binary_accuracy: 0.9725 - val_loss: 0.4622 - val_binary_accuracy: 0.8780\n",
            "25000/25000 [==============================] - 2s 77us/step\n",
            "Test accuracy 0.86188\n"
          ],
          "name": "stdout"
        }
      ]
    },
    {
      "metadata": {
        "id": "1w4gjWWnr6Ub",
        "colab_type": "code",
        "colab": {
          "base_uri": "https://localhost:8080/",
          "height": 224
        },
        "outputId": "a4528830-ecb1-4c2a-82bc-c7d972fc02cd"
      },
      "cell_type": "code",
      "source": [
        "## EXPERIMENT with 'adam' + 'relu'\n",
        "\n",
        "model = Sequential()\n",
        "model.add(Dense(16, activation='relu', input_shape=(max_words, ))) # 16 shows hidden node number in this layer\n",
        "model.add(Dense(16, activation='relu'))\n",
        "model.add(Dense(1, activation='sigmoid'))   \n",
        "\n",
        "model.compile(optimizer='adam',\n",
        "loss=losses.binary_crossentropy,\n",
        "metrics=[metrics.binary_accuracy])\n",
        "\n",
        "batch_size = 32\n",
        "epochs = 4\n",
        "\n",
        "model.fit(X_train, y_train, batch_size=batch_size, epochs=epochs, validation_split=0.1, verbose=1)\n",
        "score = model.evaluate(X_test, y_test, batch_size=batch_size, verbose=1)\n",
        "print(f\"Test accuracy {score[1]}\")"
      ],
      "execution_count": 150,
      "outputs": [
        {
          "output_type": "stream",
          "text": [
            "Train on 22500 samples, validate on 2500 samples\n",
            "Epoch 1/4\n",
            "22500/22500 [==============================] - 6s 246us/step - loss: 0.3376 - binary_accuracy: 0.8575 - val_loss: 0.2753 - val_binary_accuracy: 0.8960\n",
            "Epoch 2/4\n",
            "22500/22500 [==============================] - 5s 205us/step - loss: 0.1791 - binary_accuracy: 0.9327 - val_loss: 0.3046 - val_binary_accuracy: 0.8896\n",
            "Epoch 3/4\n",
            "22500/22500 [==============================] - 5s 210us/step - loss: 0.1170 - binary_accuracy: 0.9576 - val_loss: 0.3588 - val_binary_accuracy: 0.8848\n",
            "Epoch 4/4\n",
            "22500/22500 [==============================] - 5s 211us/step - loss: 0.0651 - binary_accuracy: 0.9772 - val_loss: 0.4396 - val_binary_accuracy: 0.8752\n",
            "25000/25000 [==============================] - 2s 75us/step\n",
            "Test accuracy 0.86076\n"
          ],
          "name": "stdout"
        }
      ]
    },
    {
      "metadata": {
        "id": "3PX5KJtpsFQL",
        "colab_type": "code",
        "colab": {
          "base_uri": "https://localhost:8080/",
          "height": 224
        },
        "outputId": "8087dd5f-8352-48c5-f4fb-b2dd5101e26f"
      },
      "cell_type": "code",
      "source": [
        "## EXPERIMENT with 'adam' + 'relu'\n",
        "\n",
        "model = Sequential()\n",
        "model.add(Dense(32, activation='relu', input_shape=(max_words, ))) # 16 shows hidden node number in this layer\n",
        "model.add(Dense(16, activation='relu'))\n",
        "model.add(Dense(1, activation='sigmoid'))   \n",
        "\n",
        "model.compile(optimizer='adam',\n",
        "loss=losses.binary_crossentropy,\n",
        "metrics=[metrics.binary_accuracy])\n",
        "\n",
        "batch_size = 32\n",
        "epochs = 4\n",
        "\n",
        "model.fit(X_train, y_train, batch_size=batch_size, epochs=epochs, validation_split=0.1, verbose=1)\n",
        "score = model.evaluate(X_test, y_test, batch_size=batch_size, verbose=1)\n",
        "print(f\"Test accuracy {score[1]}\")"
      ],
      "execution_count": 151,
      "outputs": [
        {
          "output_type": "stream",
          "text": [
            "Train on 22500 samples, validate on 2500 samples\n",
            "Epoch 1/4\n",
            "22500/22500 [==============================] - 7s 325us/step - loss: 0.3260 - binary_accuracy: 0.8673 - val_loss: 0.2767 - val_binary_accuracy: 0.8940\n",
            "Epoch 2/4\n",
            "22500/22500 [==============================] - 6s 286us/step - loss: 0.1764 - binary_accuracy: 0.9320 - val_loss: 0.3694 - val_binary_accuracy: 0.8608\n",
            "Epoch 3/4\n",
            "22500/22500 [==============================] - 6s 280us/step - loss: 0.1156 - binary_accuracy: 0.9548 - val_loss: 0.3679 - val_binary_accuracy: 0.8780\n",
            "Epoch 4/4\n",
            "22500/22500 [==============================] - 6s 287us/step - loss: 0.0595 - binary_accuracy: 0.9780 - val_loss: 0.4489 - val_binary_accuracy: 0.8780\n",
            "25000/25000 [==============================] - 2s 95us/step\n",
            "Test accuracy 0.86508\n"
          ],
          "name": "stdout"
        }
      ]
    },
    {
      "metadata": {
        "id": "v8JOkkz7sPEi",
        "colab_type": "code",
        "colab": {
          "base_uri": "https://localhost:8080/",
          "height": 224
        },
        "outputId": "ad4926c8-6ad7-4797-a298-5e5838ffd680"
      },
      "cell_type": "code",
      "source": [
        "## EXPERIMENT with 'adam' + 'relu'\n",
        "\n",
        "model = Sequential()\n",
        "model.add(Dense(32, activation='relu', input_shape=(max_words, ))) # 16 shows hidden node number in this layer\n",
        "model.add(Dense(32, activation='relu'))\n",
        "model.add(Dense(1, activation='sigmoid'))   \n",
        "\n",
        "model.compile(optimizer='adam',\n",
        "loss=losses.binary_crossentropy,\n",
        "metrics=['binary_accuracy'])\n",
        "\n",
        "batch_size = 32\n",
        "epochs = 4\n",
        "\n",
        "model.fit(X_train, y_train, batch_size=batch_size, epochs=epochs, validation_split=0.1, verbose=1)\n",
        "score = model.evaluate(X_test, y_test, batch_size=batch_size, verbose=1)\n",
        "print(f\"Test accuracy {score[1]}\")"
      ],
      "execution_count": 155,
      "outputs": [
        {
          "output_type": "stream",
          "text": [
            "Train on 22500 samples, validate on 2500 samples\n",
            "Epoch 1/4\n",
            "22500/22500 [==============================] - 8s 343us/step - loss: 0.3279 - binary_accuracy: 0.8621 - val_loss: 0.2751 - val_binary_accuracy: 0.8900\n",
            "Epoch 2/4\n",
            "22500/22500 [==============================] - 7s 289us/step - loss: 0.1730 - binary_accuracy: 0.9338 - val_loss: 0.3008 - val_binary_accuracy: 0.8828\n",
            "Epoch 3/4\n",
            "22500/22500 [==============================] - 6s 280us/step - loss: 0.1000 - binary_accuracy: 0.9617 - val_loss: 0.3710 - val_binary_accuracy: 0.8748\n",
            "Epoch 4/4\n",
            "22500/22500 [==============================] - 6s 285us/step - loss: 0.0465 - binary_accuracy: 0.9838 - val_loss: 0.5249 - val_binary_accuracy: 0.8784\n",
            "25000/25000 [==============================] - 2s 85us/step\n",
            "Test accuracy 0.855\n"
          ],
          "name": "stdout"
        }
      ]
    },
    {
      "metadata": {
        "id": "6jP-k-CWseI0",
        "colab_type": "code",
        "colab": {
          "base_uri": "https://localhost:8080/",
          "height": 224
        },
        "outputId": "eb57e92a-ccf4-456b-a7fa-c80b04faa7e2"
      },
      "cell_type": "code",
      "source": [
        "## EXPERIMENT with 'adam' + 'tanh'\n",
        "\n",
        "model = Sequential()\n",
        "model.add(Dense(16, activation='tanh', input_shape=(max_words, ))) # 16 shows hidden node number in this layer\n",
        "model.add(Dense(16, activation='tanh'))\n",
        "model.add(Dense(1, activation='sigmoid'))   \n",
        "\n",
        "model.compile(optimizer='adam',\n",
        "loss=losses.binary_crossentropy,\n",
        "metrics=[metrics.binary_accuracy])\n",
        "\n",
        "batch_size = 32\n",
        "epochs = 4\n",
        "\n",
        "model.fit(X_train, y_train, batch_size=batch_size, epochs=epochs, validation_split=0.1, verbose=1)\n",
        "score = model.evaluate(X_test, y_test, batch_size=batch_size, verbose=1)\n",
        "print(f\"Test accuracy {score[1]}\")"
      ],
      "execution_count": 156,
      "outputs": [
        {
          "output_type": "stream",
          "text": [
            "Train on 22500 samples, validate on 2500 samples\n",
            "Epoch 1/4\n",
            "22500/22500 [==============================] - 6s 247us/step - loss: 0.3121 - binary_accuracy: 0.8713 - val_loss: 0.2668 - val_binary_accuracy: 0.8920\n",
            "Epoch 2/4\n",
            "22500/22500 [==============================] - 4s 197us/step - loss: 0.1791 - binary_accuracy: 0.9318 - val_loss: 0.3057 - val_binary_accuracy: 0.8812\n",
            "Epoch 3/4\n",
            "22500/22500 [==============================] - 5s 206us/step - loss: 0.1301 - binary_accuracy: 0.9498 - val_loss: 0.3411 - val_binary_accuracy: 0.8804\n",
            "Epoch 4/4\n",
            "22500/22500 [==============================] - 4s 195us/step - loss: 0.0970 - binary_accuracy: 0.9628 - val_loss: 0.3852 - val_binary_accuracy: 0.8772\n",
            "25000/25000 [==============================] - 2s 75us/step\n",
            "Test accuracy 0.86272\n"
          ],
          "name": "stdout"
        }
      ]
    },
    {
      "metadata": {
        "id": "BX0s8T7dtHnO",
        "colab_type": "code",
        "colab": {
          "base_uri": "https://localhost:8080/",
          "height": 224
        },
        "outputId": "5503836f-2346-41cd-bf85-d314afae5eb0"
      },
      "cell_type": "code",
      "source": [
        "## RE-TRAIN FOR TESTING SET\n",
        "\n",
        "model = Sequential()\n",
        "model.add(Dense(16, activation='relu', input_shape=(max_words, ))) # 16 shows hidden node number in this layer\n",
        "model.add(Dense(16, activation='relu'))\n",
        "model.add(Dense(1, activation='sigmoid'))   \n",
        "\n",
        "model.compile(optimizer=optimizers.RMSprop(lr=0.001),\n",
        "loss='mean_squared_error',\n",
        "metrics=[metrics.binary_accuracy])\n",
        "\n",
        "\n",
        "batch_size = 32\n",
        "epochs = 4\n",
        "\n",
        "model.fit(X_train, y_train, batch_size=batch_size, epochs=epochs, validation_split=0.1, verbose=1)\n",
        "score = model.evaluate(X_test, y_test, batch_size=batch_size, verbose=1)\n",
        "\n",
        "print(f\"Test accuracy {score[1]}\")"
      ],
      "execution_count": 158,
      "outputs": [
        {
          "output_type": "stream",
          "text": [
            "Train on 22500 samples, validate on 2500 samples\n",
            "Epoch 1/4\n",
            "22500/22500 [==============================] - 6s 263us/step - loss: 0.1036 - binary_accuracy: 0.8626 - val_loss: 0.0870 - val_binary_accuracy: 0.8836\n",
            "Epoch 2/4\n",
            "22500/22500 [==============================] - 5s 205us/step - loss: 0.0614 - binary_accuracy: 0.9195 - val_loss: 0.0824 - val_binary_accuracy: 0.8948\n",
            "Epoch 3/4\n",
            "22500/22500 [==============================] - 4s 197us/step - loss: 0.0488 - binary_accuracy: 0.9381 - val_loss: 0.0934 - val_binary_accuracy: 0.8820\n",
            "Epoch 4/4\n",
            "22500/22500 [==============================] - 5s 202us/step - loss: 0.0398 - binary_accuracy: 0.9509 - val_loss: 0.0962 - val_binary_accuracy: 0.8796\n",
            "25000/25000 [==============================] - 2s 79us/step\n",
            "Test accuracy 0.8702\n"
          ],
          "name": "stdout"
        }
      ]
    },
    {
      "metadata": {
        "id": "uJRt96njt9oZ",
        "colab_type": "code",
        "colab": {
          "base_uri": "https://localhost:8080/",
          "height": 224
        },
        "outputId": "bca10639-63be-4179-9966-1fc4f0f4f7d9"
      },
      "cell_type": "code",
      "source": [
        "## RE-TRAIN FOR TESTING SET\n",
        "\n",
        "model = Sequential()\n",
        "model.add(Dense(64, activation='relu', input_shape=(max_words, ))) # 16 shows hidden node number in this layer\n",
        "model.add(Dense(64, activation='relu'))\n",
        "#model.add(Dense(32, activation='relu'))\n",
        "model.add(Dense(1, activation='sigmoid'))   \n",
        "\n",
        "model.compile(optimizer='adam',\n",
        "loss='binary_crossentropy',\n",
        "metrics=[metrics.binary_accuracy])\n",
        "\n",
        "\n",
        "batch_size = 512\n",
        "epochs = 4\n",
        "\n",
        "model.fit(X_train, y_train, batch_size=batch_size, epochs=epochs, validation_split=0.1, verbose=1)\n",
        "score = model.evaluate(X_test, y_test, batch_size=batch_size, verbose=1)\n",
        "\n",
        "print(f\"Test accuracy {score[1]}\")"
      ],
      "execution_count": 170,
      "outputs": [
        {
          "output_type": "stream",
          "text": [
            "Train on 22500 samples, validate on 2500 samples\n",
            "Epoch 1/4\n",
            "22500/22500 [==============================] - 6s 245us/step - loss: 0.4173 - binary_accuracy: 0.8234 - val_loss: 0.2820 - val_binary_accuracy: 0.8852\n",
            "Epoch 2/4\n",
            "22500/22500 [==============================] - 3s 150us/step - loss: 0.1957 - binary_accuracy: 0.9270 - val_loss: 0.2853 - val_binary_accuracy: 0.8888\n",
            "Epoch 3/4\n",
            "22500/22500 [==============================] - 3s 150us/step - loss: 0.1332 - binary_accuracy: 0.9548 - val_loss: 0.3276 - val_binary_accuracy: 0.8812\n",
            "Epoch 4/4\n",
            "22500/22500 [==============================] - 3s 146us/step - loss: 0.0932 - binary_accuracy: 0.9692 - val_loss: 0.3941 - val_binary_accuracy: 0.8736\n",
            "25000/25000 [==============================] - 2s 76us/step\n",
            "Test accuracy 0.8667200004768372\n"
          ],
          "name": "stdout"
        }
      ]
    },
    {
      "metadata": {
        "id": "7PQK2HZwwxvH",
        "colab_type": "code",
        "colab": {
          "base_uri": "https://localhost:8080/",
          "height": 34
        },
        "outputId": "7467030d-c8dd-4554-a559-5a404bc6da1b"
      },
      "cell_type": "code",
      "source": [
        "## Accuracy of a random baseline\n",
        "\n",
        "import copy\n",
        "y_test_copy = copy.copy(y_test)\n",
        "np.random.shuffle(y_test_copy)\n",
        "float(np.sum(np.array(y_test) == np.array(y_test_copy))) / len(y_test)"
      ],
      "execution_count": 180,
      "outputs": [
        {
          "output_type": "execute_result",
          "data": {
            "text/plain": [
              "0.50392"
            ]
          },
          "metadata": {
            "tags": []
          },
          "execution_count": 180
        }
      ]
    },
    {
      "metadata": {
        "id": "JDM3Yj0l4gvG",
        "colab_type": "code",
        "colab": {}
      },
      "cell_type": "code",
      "source": [
        ""
      ],
      "execution_count": 0,
      "outputs": []
    }
  ]
}